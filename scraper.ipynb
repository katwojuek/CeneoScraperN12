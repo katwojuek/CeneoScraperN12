{
 "cells": [
  {
   "cell_type": "markdown",
   "metadata": {},
   "source": [
    "# Ceneo Scraper"
   ]
  },
  {
   "cell_type": "markdown",
   "metadata": {},
   "source": [
    "## Struktura opinii w serwisie Ceneo.pl\n",
    "\n",
    "|składowa|zmienna|selektor|\n",
    "|--------|-------|--------|\n",
    "|identyfikator opinii|opinion_id|[\"data-entry-id\"]|\n",
    "|autor|author|span.user-post__author-name|\n",
    "|rekomendacja|recommendation|span.user-post__author-recomendation > em|\n",
    "|liczbę gwiazdek|rating|span.user-post__score-count|\n",
    "|treść opinii|content|div.user-post__text|\n",
    "|listę zalet|pros|div.review-feature__title--positives ~ div.review-feature__item|\n",
    "|listę wad|cons|div.review-feature__title--negatives ~ div.review-feature__item|\n",
    "|data wystawienia opinii|opinion_date|span.user-post__published > time:nth-child(1)[\"datetime\"]|\n",
    "|data zakupu produktu|purchase_date|span.user-post__published > time:nth-child(2)[\"datetime\"]|\n",
    "|ile osób uznało opinię za przydatną|likes|button.vote-yes > span|\n",
    "|ile osób uznało opinię za nieprzydatną|dislikes|button.vote-no > span|"
   ]
  },
  {
   "cell_type": "code",
   "execution_count": 22,
   "metadata": {},
   "outputs": [],
   "source": [
    "selectors = {\n",
    "    'author': (\"span.user-post__author-name\",),\n",
    "    'recommendation': (\"span.user-post__author-recomendation > em\",),\n",
    "    'rating': (\"span.user-post__score-count\",),\n",
    "    'content': (\"div.user-post__text\",),\n",
    "    'pros': (\"div.review-feature__title--positives ~ div.review-feature__item\", None, True),\n",
    "    'cons': (\"div.review-feature__title--negatives ~ div.review-feature__item\", None, True),\n",
    "    'opinion_date': (\"span.user-post__published > time:nth-child(1)\",\"datetime\"),\n",
    "    'purchase_date': (\"span.user-post__published > time:nth-child(2)\",\"datetime\"),\n",
    "    'likes': (\"button.vote-yes > span\",),\n",
    "    'dislikes': (\"button.vote-no > span\",),\n",
    "    'opinion_id': (None, \"data-entry-id\"),\n",
    "}"
   ]
  },
  {
   "cell_type": "markdown",
   "metadata": {},
   "source": [
    "1. Import bibliotek"
   ]
  },
  {
   "cell_type": "code",
   "execution_count": 23,
   "metadata": {},
   "outputs": [],
   "source": [
    "import os\n",
    "import json\n",
    "import requests\n",
    "from bs4 import BeautifulSoup"
   ]
  },
  {
   "cell_type": "markdown",
   "metadata": {},
   "source": [
    "2. Funkcja do ekstrakcji zawartości ze strony HTML"
   ]
  },
  {
   "cell_type": "code",
   "execution_count": 24,
   "metadata": {},
   "outputs": [],
   "source": [
    "def extract(ancestor, selector, attribute = None, return_list = False):\n",
    "    if return_list:\n",
    "        if attribute:\n",
    "            return [tag[attribute].strip() for tag in ancestor.select(selector)]\n",
    "        return [tag.get_text().strip() for tag in ancestor.select(selector)]\n",
    "    if selector:\n",
    "        if attribute:\n",
    "            try:\n",
    "                return ancestor.select_one(selector)[attribute].strip()\n",
    "            except TypeError:\n",
    "                return None\n",
    "        try:\n",
    "            return ancestor.select_one(selector).get_text().strip()\n",
    "        except AttributeError:\n",
    "            return None\n",
    "    if attribute:\n",
    "        return  ancestor[attribute].strip()\n",
    "    return ancestor.get_text().strip()"
   ]
  },
  {
   "cell_type": "markdown",
   "metadata": {},
   "source": [
    "2. Adres pierwszej Strony z opiniomi o produkcie"
   ]
  },
  {
   "cell_type": "code",
   "execution_count": 25,
   "metadata": {},
   "outputs": [],
   "source": [
    "# product_id = \"84514582\"\n",
    "product_id = input(\"Podaj kod produktu z Ceneo.pl: \")\n",
    "url = f\"https://www.ceneo.pl/{product_id}#tab=reviews\""
   ]
  },
  {
   "cell_type": "markdown",
   "metadata": {},
   "source": [
    "5. Pobranie opinii o producie"
   ]
  },
  {
   "cell_type": "code",
   "execution_count": 26,
   "metadata": {},
   "outputs": [
    {
     "name": "stdout",
     "output_type": "stream",
     "text": [
      "https://www.ceneo.pl/157145069#tab=reviews\n",
      "https://www.ceneo.pl/157145069/opinie-2\n",
      "https://www.ceneo.pl/157145069/opinie-3\n",
      "https://www.ceneo.pl/157145069/opinie-4\n",
      "https://www.ceneo.pl/157145069/opinie-5\n",
      "https://www.ceneo.pl/157145069/opinie-6\n",
      "https://www.ceneo.pl/157145069/opinie-7\n",
      "https://www.ceneo.pl/157145069/opinie-8\n",
      "https://www.ceneo.pl/157145069/opinie-9\n",
      "https://www.ceneo.pl/157145069/opinie-10\n",
      "https://www.ceneo.pl/157145069/opinie-11\n",
      "https://www.ceneo.pl/157145069/opinie-12\n",
      "https://www.ceneo.pl/157145069/opinie-13\n",
      "https://www.ceneo.pl/157145069/opinie-14\n",
      "https://www.ceneo.pl/157145069/opinie-15\n",
      "https://www.ceneo.pl/157145069/opinie-16\n",
      "https://www.ceneo.pl/157145069/opinie-17\n",
      "https://www.ceneo.pl/157145069/opinie-18\n",
      "https://www.ceneo.pl/157145069/opinie-19\n",
      "https://www.ceneo.pl/157145069/opinie-20\n",
      "https://www.ceneo.pl/157145069/opinie-21\n",
      "https://www.ceneo.pl/157145069/opinie-22\n",
      "https://www.ceneo.pl/157145069/opinie-23\n",
      "https://www.ceneo.pl/157145069/opinie-24\n",
      "https://www.ceneo.pl/157145069/opinie-25\n",
      "https://www.ceneo.pl/157145069/opinie-26\n",
      "https://www.ceneo.pl/157145069/opinie-27\n",
      "https://www.ceneo.pl/157145069/opinie-28\n",
      "https://www.ceneo.pl/157145069/opinie-29\n",
      "https://www.ceneo.pl/157145069/opinie-30\n",
      "https://www.ceneo.pl/157145069/opinie-31\n",
      "https://www.ceneo.pl/157145069/opinie-32\n",
      "https://www.ceneo.pl/157145069/opinie-33\n",
      "https://www.ceneo.pl/157145069/opinie-34\n",
      "https://www.ceneo.pl/157145069/opinie-35\n",
      "https://www.ceneo.pl/157145069/opinie-36\n",
      "https://www.ceneo.pl/157145069/opinie-37\n",
      "https://www.ceneo.pl/157145069/opinie-38\n",
      "https://www.ceneo.pl/157145069/opinie-39\n",
      "https://www.ceneo.pl/157145069/opinie-40\n",
      "https://www.ceneo.pl/157145069/opinie-41\n",
      "https://www.ceneo.pl/157145069/opinie-42\n",
      "https://www.ceneo.pl/157145069/opinie-43\n",
      "https://www.ceneo.pl/157145069/opinie-44\n",
      "https://www.ceneo.pl/157145069/opinie-45\n",
      "https://www.ceneo.pl/157145069/opinie-46\n",
      "https://www.ceneo.pl/157145069/opinie-47\n",
      "https://www.ceneo.pl/157145069/opinie-48\n",
      "https://www.ceneo.pl/157145069/opinie-49\n",
      "https://www.ceneo.pl/157145069/opinie-50\n"
     ]
    }
   ],
   "source": [
    "all_opinions = []\n",
    "while(url): \n",
    "    print(url)\n",
    "    response = requests.get(url)\n",
    "    page = BeautifulSoup(response.text, \"html.parser\")\n",
    "    opinions = page.select(\"div.js_product-review\")\n",
    "    for opinion in opinions:\n",
    "        single_opinion = {\n",
    "            key: extract(opinion, *value)\n",
    "                for key, value in selectors.items()\n",
    "        }\n",
    "        all_opinions.append(single_opinion)\n",
    "    try:\n",
    "        url = \"https://www.ceneo.pl\" + extract(page, \"a.pagination__next\", \"href\")\n",
    "    except TypeError:\n",
    "        url = None"
   ]
  },
  {
   "cell_type": "code",
   "execution_count": 27,
   "metadata": {},
   "outputs": [],
   "source": [
    "if not os.path.exists(\"opinions\"):\n",
    "    os.mkdir(\"opinions\")\n",
    "with open(f\"opinions/{product_id}.json\", \"w\", encoding=\"UTF-8\") as jf:\n",
    "    json.dump(all_opinions, jf, indent=4, ensure_ascii=False)"
   ]
  }
 ],
 "metadata": {
  "kernelspec": {
   "display_name": ".venv",
   "language": "python",
   "name": "python3"
  },
  "language_info": {
   "codemirror_mode": {
    "name": "ipython",
    "version": 3
   },
   "file_extension": ".py",
   "mimetype": "text/x-python",
   "name": "python",
   "nbconvert_exporter": "python",
   "pygments_lexer": "ipython3",
   "version": "3.11.4"
  }
 },
 "nbformat": 4,
 "nbformat_minor": 2
}
